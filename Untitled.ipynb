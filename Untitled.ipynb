{
 "cells": [
  {
   "cell_type": "markdown",
   "metadata": {},
   "source": [
    "Trys"
   ]
  },
  {
   "cell_type": "code",
   "execution_count": 11,
   "metadata": {},
   "outputs": [
    {
     "name": "stderr",
     "output_type": "stream",
     "text": [
      "DEBUG    Loaded Plugin: RFC 6120: Stream Feature: STARTTLS\n",
      "DEBUG    Loaded Plugin: RFC 6120: Stream Feature: Resource Binding\n",
      "DEBUG    Loaded Plugin: RFC 3920: Stream Feature: Start Session\n",
      "DEBUG    Loaded Plugin: RFC 6121: Stream Feature: Roster Versioning\n",
      "DEBUG    Loaded Plugin: RFC 6121: Stream Feature: Subscription Pre-Approval\n",
      "DEBUG    Loaded Plugin: RFC 6120: Stream Feature: SASL\n",
      "DEBUG    Event triggered: connecting\n",
      "DEBUG    DNS: Querying SRV records for localhost\n",
      "DEBUG    DNS: Exception while querying for localhost SRV records: (12, 'Timeout while contacting DNS servers')\n",
      "DEBUG    DNS: Querying localhost for AAAA records.\n",
      "DEBUG    DNS: Exception while querying for localhost AAAA records: (12, 'Timeout while contacting DNS servers')\n",
      "DEBUG    DNS: Querying localhost for A records.\n",
      "DEBUG    DNS: Exception while querying for localhost A records: (12, 'Timeout while contacting DNS servers')\n",
      "DEBUG    Event triggered: connected\n",
      "DEBUG    SEND: <stream:stream to='localhost' xmlns:stream='http://etherx.jabber.org/streams' xmlns='jabber:client' xml:lang='en' version='1.0'>\n",
      "DEBUG    RECV: <stream:stream from=\"localhost\" id=\"9y1kzaeuam\" xml:lang=\"en\" version=\"1.0\">\n",
      "DEBUG    RECV: <stream:features xmlns=\"http://etherx.jabber.org/streams\"><starttls xmlns=\"urn:ietf:params:xml:ns:xmpp-tls\" /><mechanisms xmlns=\"urn:ietf:params:xml:ns:xmpp-sasl\"><mechanism>PLAIN</mechanism><mechanism>SCRAM-SHA-1</mechanism><mechanism>CRAM-MD5</mechanism><mechanism>DIGEST-MD5</mechanism></mechanisms><compression xmlns=\"http://jabber.org/features/compress\"><method>zlib</method></compression><ver xmlns=\"urn:xmpp:features:rosterver\" /><register xmlns=\"http://jabber.org/features/iq-register\" /><c xmlns=\"http://jabber.org/protocol/caps\" hash=\"sha-1\" node=\"https://www.igniterealtime.org/projects/openfire/\" ver=\"N8UqlYL9lU9issqus4+KycazJI0=\" /></stream:features>\n",
      "DEBUG    SEND: <starttls xmlns=\"urn:ietf:params:xml:ns:xmpp-tls\" />\n",
      "DEBUG    RECV: <proceed xmlns=\"urn:ietf:params:xml:ns:xmpp-tls\" />\n",
      "DEBUG    Starting TLS\n",
      "DEBUG    Event triggered: ssl_cert\n",
      "DEBUG    Event triggered: tls_success\n",
      "DEBUG    SEND: <stream:stream to='localhost' xmlns:stream='http://etherx.jabber.org/streams' xmlns='jabber:client' xml:lang='en' version='1.0'>\n",
      "DEBUG    RECV: <stream:stream from=\"localhost\" id=\"9y1kzaeuam\" xml:lang=\"en\" version=\"1.0\">\n",
      "DEBUG    RECV: <stream:features xmlns=\"http://etherx.jabber.org/streams\"><mechanisms xmlns=\"urn:ietf:params:xml:ns:xmpp-sasl\"><mechanism>PLAIN</mechanism><mechanism>SCRAM-SHA-1</mechanism><mechanism>CRAM-MD5</mechanism><mechanism>DIGEST-MD5</mechanism></mechanisms><compression xmlns=\"http://jabber.org/features/compress\"><method>zlib</method></compression><ver xmlns=\"urn:xmpp:features:rosterver\" /><register xmlns=\"http://jabber.org/features/iq-register\" /><c xmlns=\"http://jabber.org/protocol/caps\" hash=\"sha-1\" node=\"https://www.igniterealtime.org/projects/openfire/\" ver=\"N8UqlYL9lU9issqus4+KycazJI0=\" /></stream:features>\n",
      "DEBUG    SEND: <auth xmlns=\"urn:ietf:params:xml:ns:xmpp-sasl\" mechanism=\"SCRAM-SHA-1\">eSwsbj1hZG1pbixyPTM1MjM2MzM4ODk5Nzg2Mg==</auth>\n",
      "DEBUG    RECV: <challenge xmlns=\"urn:ietf:params:xml:ns:xmpp-sasl\">cj0zNTIzNjMzODg5OTc4NjIzMzFiNTFiNC0wODFlLTRkMGYtOTcyMS1mYmRiZWJmOGYzMzkscz1vYWtwUDBsL2hSaHdhYWtjbGswbDliaVdOZTZSc2hLUSxpPTQwOTY=</challenge>\n",
      "DEBUG    SEND: <response xmlns=\"urn:ietf:params:xml:ns:xmpp-sasl\">Yz1lU3dzLHI9MzUyMzYzMzg4OTk3ODYyMzMxYjUxYjQtMDgxZS00ZDBmLTk3MjEtZmJkYmViZjhmMzM5LHA9OW1RcmhIOFBEamdyWUo1WWVvOUtkS3ByTU5JPQ==</response>\n",
      "DEBUG    RECV: <success xmlns=\"urn:ietf:params:xml:ns:xmpp-sasl\">dj1HQW83U1pIdTZNVUlycVlPeG5SR0p1SHNjNEU9</success>\n",
      "DEBUG    Event triggered: auth_success\n",
      "DEBUG    SEND: <stream:stream to='localhost' xmlns:stream='http://etherx.jabber.org/streams' xmlns='jabber:client' xml:lang='en' version='1.0'>\n",
      "DEBUG    RECV: <stream:stream from=\"localhost\" id=\"9y1kzaeuam\" xml:lang=\"en\" version=\"1.0\">\n",
      "DEBUG    RECV: <stream:features xmlns=\"http://etherx.jabber.org/streams\"><compression xmlns=\"http://jabber.org/features/compress\"><method>zlib</method></compression><ver xmlns=\"urn:xmpp:features:rosterver\" /><bind xmlns=\"urn:ietf:params:xml:ns:xmpp-bind\" /><session xmlns=\"urn:ietf:params:xml:ns:xmpp-session\"><optional /></session><sm xmlns=\"urn:xmpp:sm:2\" /><sm xmlns=\"urn:xmpp:sm:3\" /><c xmlns=\"http://jabber.org/protocol/caps\" hash=\"sha-1\" node=\"https://www.igniterealtime.org/projects/openfire/\" ver=\"N8UqlYL9lU9issqus4+KycazJI0=\" /></stream:features>\n",
      "DEBUG    Enabling roster versioning.\n",
      "DEBUG    Requesting resource: \n",
      "DEBUG    SEND: <iq id=\"03c7c4d260964770aa15ff7a131dcfe6\" type=\"set\"><bind xmlns=\"urn:ietf:params:xml:ns:xmpp-bind\" /></iq>\n",
      "DEBUG    RECV: <iq type=\"result\" id=\"03c7c4d260964770aa15ff7a131dcfe6\" to=\"localhost/9y1kzaeuam\"><bind xmlns=\"urn:ietf:params:xml:ns:xmpp-bind\"><jid>admin@localhost/9y1kzaeuam</jid></bind></iq>\n",
      "DEBUG    Event triggered: session_bind\n",
      "INFO     JID set to: admin@localhost/9y1kzaeuam\n",
      "DEBUG    Event triggered: session_start\n",
      "DEBUG    Finished processing stream features.\n",
      "DEBUG    Event triggered: stream_negotiated\n",
      "DEBUG    Event triggered: sent_presence\n",
      "DEBUG    SEND: <presence id=\"0bdfc29b1eb14f57b9c5f620d61e061e\" xml:lang=\"en\" />\n",
      "DEBUG    SEND: <iq id=\"d97a718d8a4b4c48ba6c9e83bfe6986c\" type=\"get\"><query xmlns=\"jabber:iq:roster\" ver=\"\" /></iq>\n",
      "DEBUG    RECV: <presence id=\"0bdfc29b1eb14f57b9c5f620d61e061e\" xml:lang=\"en\" from=\"admin@localhost/9y1kzaeuam\" to=\"admin@localhost/9y1kzaeuam\" />\n",
      "DEBUG    Event triggered: presence\n",
      "DEBUG    Event triggered: presence_available\n",
      "DEBUG    Event triggered: got_online\n",
      "DEBUG    Event triggered: changed_status\n",
      "DEBUG    RECV: <iq type=\"result\" id=\"d97a718d8a4b4c48ba6c9e83bfe6986c\" to=\"admin@localhost/9y1kzaeuam\"><query xmlns=\"jabber:iq:roster\" ver=\"92668751\" /></iq>\n",
      "DEBUG    Event triggered: roster_update\n",
      "DEBUG    RECV: <iq type=\"get\" id=\"104-32\" to=\"admin@localhost/9y1kzaeuam\" from=\"localhost\"><query xmlns=\"jabber:iq:version\" /></iq>\n",
      "DEBUG    SEND: <iq type=\"error\" id=\"104-32\" to=\"localhost\"><error type=\"cancel\"><feature-not-implemented xmlns=\"urn:ietf:params:xml:ns:xmpp-stanzas\" /><text xmlns=\"urn:ietf:params:xml:ns:xmpp-stanzas\">No handlers registered for this request.</text></error></iq>\n"
     ]
    },
    {
     "ename": "KeyboardInterrupt",
     "evalue": "",
     "output_type": "error",
     "traceback": [
      "\u001b[0;31m---------------------------------------------------------------------------\u001b[0m",
      "\u001b[0;31mKeyboardInterrupt\u001b[0m                         Traceback (most recent call last)",
      "\u001b[0;32m<ipython-input-11-83e4ad5103d4>\u001b[0m in \u001b[0;36m<module>\u001b[0;34m\u001b[0m\n\u001b[1;32m     33\u001b[0m     \u001b[0mxmpp\u001b[0m \u001b[0;34m=\u001b[0m \u001b[0mEchoBot\u001b[0m\u001b[0;34m(\u001b[0m\u001b[0;34m'admin@localhost'\u001b[0m\u001b[0;34m,\u001b[0m \u001b[0;34m'admin'\u001b[0m\u001b[0;34m)\u001b[0m\u001b[0;34m\u001b[0m\u001b[0;34m\u001b[0m\u001b[0m\n\u001b[1;32m     34\u001b[0m     \u001b[0mxmpp\u001b[0m\u001b[0;34m.\u001b[0m\u001b[0mconnect\u001b[0m\u001b[0;34m(\u001b[0m\u001b[0;34m)\u001b[0m\u001b[0;34m\u001b[0m\u001b[0;34m\u001b[0m\u001b[0m\n\u001b[0;32m---> 35\u001b[0;31m     \u001b[0mxmpp\u001b[0m\u001b[0;34m.\u001b[0m\u001b[0mprocess\u001b[0m\u001b[0;34m(\u001b[0m\u001b[0;34m)\u001b[0m\u001b[0;34m\u001b[0m\u001b[0;34m\u001b[0m\u001b[0m\n\u001b[0m",
      "\u001b[0;32m~/opt/anaconda3/lib/python3.8/site-packages/slixmpp/basexmpp.py\u001b[0m in \u001b[0;36mprocess\u001b[0;34m(self, forever, timeout)\u001b[0m\n\u001b[1;32m    213\u001b[0m     \u001b[0;32mdef\u001b[0m \u001b[0mprocess\u001b[0m\u001b[0;34m(\u001b[0m\u001b[0mself\u001b[0m\u001b[0;34m,\u001b[0m \u001b[0;34m*\u001b[0m\u001b[0;34m,\u001b[0m \u001b[0mforever\u001b[0m\u001b[0;34m=\u001b[0m\u001b[0;32mTrue\u001b[0m\u001b[0;34m,\u001b[0m \u001b[0mtimeout\u001b[0m\u001b[0;34m=\u001b[0m\u001b[0;32mNone\u001b[0m\u001b[0;34m)\u001b[0m\u001b[0;34m:\u001b[0m\u001b[0;34m\u001b[0m\u001b[0;34m\u001b[0m\u001b[0m\n\u001b[1;32m    214\u001b[0m         \u001b[0mself\u001b[0m\u001b[0;34m.\u001b[0m\u001b[0minit_plugins\u001b[0m\u001b[0;34m(\u001b[0m\u001b[0;34m)\u001b[0m\u001b[0;34m\u001b[0m\u001b[0;34m\u001b[0m\u001b[0m\n\u001b[0;32m--> 215\u001b[0;31m         \u001b[0mXMLStream\u001b[0m\u001b[0;34m.\u001b[0m\u001b[0mprocess\u001b[0m\u001b[0;34m(\u001b[0m\u001b[0mself\u001b[0m\u001b[0;34m,\u001b[0m \u001b[0mforever\u001b[0m\u001b[0;34m=\u001b[0m\u001b[0mforever\u001b[0m\u001b[0;34m,\u001b[0m \u001b[0mtimeout\u001b[0m\u001b[0;34m=\u001b[0m\u001b[0mtimeout\u001b[0m\u001b[0;34m)\u001b[0m\u001b[0;34m\u001b[0m\u001b[0;34m\u001b[0m\u001b[0m\n\u001b[0m\u001b[1;32m    216\u001b[0m \u001b[0;34m\u001b[0m\u001b[0m\n\u001b[1;32m    217\u001b[0m     \u001b[0;32mdef\u001b[0m \u001b[0minit_plugins\u001b[0m\u001b[0;34m(\u001b[0m\u001b[0mself\u001b[0m\u001b[0;34m)\u001b[0m\u001b[0;34m:\u001b[0m\u001b[0;34m\u001b[0m\u001b[0;34m\u001b[0m\u001b[0m\n",
      "\u001b[0;32m~/opt/anaconda3/lib/python3.8/site-packages/slixmpp/xmlstream/xmlstream.py\u001b[0m in \u001b[0;36mprocess\u001b[0;34m(self, forever, timeout)\u001b[0m\n\u001b[1;32m    373\u001b[0m         \u001b[0;32mif\u001b[0m \u001b[0mtimeout\u001b[0m \u001b[0;32mis\u001b[0m \u001b[0;32mNone\u001b[0m\u001b[0;34m:\u001b[0m\u001b[0;34m\u001b[0m\u001b[0;34m\u001b[0m\u001b[0m\n\u001b[1;32m    374\u001b[0m             \u001b[0;32mif\u001b[0m \u001b[0mforever\u001b[0m\u001b[0;34m:\u001b[0m\u001b[0;34m\u001b[0m\u001b[0;34m\u001b[0m\u001b[0m\n\u001b[0;32m--> 375\u001b[0;31m                 \u001b[0mself\u001b[0m\u001b[0;34m.\u001b[0m\u001b[0mloop\u001b[0m\u001b[0;34m.\u001b[0m\u001b[0mrun_forever\u001b[0m\u001b[0;34m(\u001b[0m\u001b[0;34m)\u001b[0m\u001b[0;34m\u001b[0m\u001b[0;34m\u001b[0m\u001b[0m\n\u001b[0m\u001b[1;32m    376\u001b[0m             \u001b[0;32melse\u001b[0m\u001b[0;34m:\u001b[0m\u001b[0;34m\u001b[0m\u001b[0;34m\u001b[0m\u001b[0m\n\u001b[1;32m    377\u001b[0m                 \u001b[0mself\u001b[0m\u001b[0;34m.\u001b[0m\u001b[0mloop\u001b[0m\u001b[0;34m.\u001b[0m\u001b[0mrun_until_complete\u001b[0m\u001b[0;34m(\u001b[0m\u001b[0mself\u001b[0m\u001b[0;34m.\u001b[0m\u001b[0mdisconnected\u001b[0m\u001b[0;34m)\u001b[0m\u001b[0;34m\u001b[0m\u001b[0;34m\u001b[0m\u001b[0m\n",
      "\u001b[0;32m~/opt/anaconda3/lib/python3.8/site-packages/nest_asyncio.py\u001b[0m in \u001b[0;36mrun_forever\u001b[0;34m(self)\u001b[0m\n\u001b[1;32m     68\u001b[0m             \u001b[0mevents\u001b[0m\u001b[0;34m.\u001b[0m\u001b[0m_set_running_loop\u001b[0m\u001b[0;34m(\u001b[0m\u001b[0mself\u001b[0m\u001b[0;34m)\u001b[0m\u001b[0;34m\u001b[0m\u001b[0;34m\u001b[0m\u001b[0m\n\u001b[1;32m     69\u001b[0m             \u001b[0;32mwhile\u001b[0m \u001b[0;32mTrue\u001b[0m\u001b[0;34m:\u001b[0m\u001b[0;34m\u001b[0m\u001b[0;34m\u001b[0m\u001b[0m\n\u001b[0;32m---> 70\u001b[0;31m                 \u001b[0mself\u001b[0m\u001b[0;34m.\u001b[0m\u001b[0m_run_once\u001b[0m\u001b[0;34m(\u001b[0m\u001b[0;34m)\u001b[0m\u001b[0;34m\u001b[0m\u001b[0;34m\u001b[0m\u001b[0m\n\u001b[0m\u001b[1;32m     71\u001b[0m                 \u001b[0;32mif\u001b[0m \u001b[0mself\u001b[0m\u001b[0;34m.\u001b[0m\u001b[0m_stopping\u001b[0m\u001b[0;34m:\u001b[0m\u001b[0;34m\u001b[0m\u001b[0;34m\u001b[0m\u001b[0m\n\u001b[1;32m     72\u001b[0m                     \u001b[0;32mbreak\u001b[0m\u001b[0;34m\u001b[0m\u001b[0;34m\u001b[0m\u001b[0m\n",
      "\u001b[0;32m~/opt/anaconda3/lib/python3.8/site-packages/nest_asyncio.py\u001b[0m in \u001b[0;36m_run_once\u001b[0;34m(self)\u001b[0m\n\u001b[1;32m    114\u001b[0m             \u001b[0;32melse\u001b[0m \u001b[0;36m0.01\u001b[0m \u001b[0;32mif\u001b[0m \u001b[0mself\u001b[0m\u001b[0;34m.\u001b[0m\u001b[0m_is_proactorloop\u001b[0m\u001b[0;34m\u001b[0m\u001b[0;34m\u001b[0m\u001b[0m\n\u001b[1;32m    115\u001b[0m             else None)\n\u001b[0;32m--> 116\u001b[0;31m         \u001b[0mevent_list\u001b[0m \u001b[0;34m=\u001b[0m \u001b[0mself\u001b[0m\u001b[0;34m.\u001b[0m\u001b[0m_selector\u001b[0m\u001b[0;34m.\u001b[0m\u001b[0mselect\u001b[0m\u001b[0;34m(\u001b[0m\u001b[0mtimeout\u001b[0m\u001b[0;34m)\u001b[0m\u001b[0;34m\u001b[0m\u001b[0;34m\u001b[0m\u001b[0m\n\u001b[0m\u001b[1;32m    117\u001b[0m         \u001b[0mself\u001b[0m\u001b[0;34m.\u001b[0m\u001b[0m_process_events\u001b[0m\u001b[0;34m(\u001b[0m\u001b[0mevent_list\u001b[0m\u001b[0;34m)\u001b[0m\u001b[0;34m\u001b[0m\u001b[0;34m\u001b[0m\u001b[0m\n\u001b[1;32m    118\u001b[0m \u001b[0;34m\u001b[0m\u001b[0m\n",
      "\u001b[0;32m~/opt/anaconda3/lib/python3.8/selectors.py\u001b[0m in \u001b[0;36mselect\u001b[0;34m(self, timeout)\u001b[0m\n\u001b[1;32m    556\u001b[0m             \u001b[0mready\u001b[0m \u001b[0;34m=\u001b[0m \u001b[0;34m[\u001b[0m\u001b[0;34m]\u001b[0m\u001b[0;34m\u001b[0m\u001b[0;34m\u001b[0m\u001b[0m\n\u001b[1;32m    557\u001b[0m             \u001b[0;32mtry\u001b[0m\u001b[0;34m:\u001b[0m\u001b[0;34m\u001b[0m\u001b[0;34m\u001b[0m\u001b[0m\n\u001b[0;32m--> 558\u001b[0;31m                 \u001b[0mkev_list\u001b[0m \u001b[0;34m=\u001b[0m \u001b[0mself\u001b[0m\u001b[0;34m.\u001b[0m\u001b[0m_selector\u001b[0m\u001b[0;34m.\u001b[0m\u001b[0mcontrol\u001b[0m\u001b[0;34m(\u001b[0m\u001b[0;32mNone\u001b[0m\u001b[0;34m,\u001b[0m \u001b[0mmax_ev\u001b[0m\u001b[0;34m,\u001b[0m \u001b[0mtimeout\u001b[0m\u001b[0;34m)\u001b[0m\u001b[0;34m\u001b[0m\u001b[0;34m\u001b[0m\u001b[0m\n\u001b[0m\u001b[1;32m    559\u001b[0m             \u001b[0;32mexcept\u001b[0m \u001b[0mInterruptedError\u001b[0m\u001b[0;34m:\u001b[0m\u001b[0;34m\u001b[0m\u001b[0;34m\u001b[0m\u001b[0m\n\u001b[1;32m    560\u001b[0m                 \u001b[0;32mreturn\u001b[0m \u001b[0mready\u001b[0m\u001b[0;34m\u001b[0m\u001b[0;34m\u001b[0m\u001b[0m\n",
      "\u001b[0;31mKeyboardInterrupt\u001b[0m: "
     ]
    }
   ],
   "source": [
    "import asyncio \n",
    "import logging\n",
    "from slixmpp import ClientXMPP\n",
    "\n",
    "import nest_asyncio\n",
    "nest_asyncio.apply()\n",
    "\n",
    "\n",
    "class EchoBot(ClientXMPP):\n",
    "    def __init__(self, jid, password):\n",
    "        ClientXMPP.__init__(self, jid, password) \n",
    "        self.add_event_handler(\"session_start\", self.session_start)\n",
    "        self.add_event_handler(\"message\", self.message)\n",
    "                # If you wanted more functionality, here's how to register plugins:\n",
    "                # self.register_plugin('xep_0030') # Service Discovery\n",
    "                # self.register_plugin('xep_0199') # XMPP Ping\n",
    "                # Here's how to access plugins once you've registered them:\n",
    "                # self['xep_0030'].add_feature('echo_demo')\n",
    "    def session_start(self, event): \n",
    "        self.send_presence() \n",
    "        self.get_roster()\n",
    "            # Most get_*/set_* methods from plugins use Iq stanzas, which\n",
    "            # are sent asynchronously. You can almost always provide a\n",
    "            # callback that will be executed when the reply is received.\n",
    "    def message(self, msg):\n",
    "        if msg['type'] in ('chat', 'normal'):\n",
    "            msg.reply(\"Thanks for sending\\n%(body)s\" % msg).send()\n",
    "            \n",
    "if __name__ == '__main__':\n",
    "    # Ideally use optparse or argparse to get JID, # password, and log level.\n",
    "    logging.basicConfig(level=logging.DEBUG, \n",
    "                        format='%(levelname)-8s %(message)s')\n",
    "    xmpp = EchoBot('admin@localhost', 'admin')\n",
    "    xmpp.connect()\n",
    "    xmpp.process()"
   ]
  },
  {
   "cell_type": "code",
   "execution_count": 12,
   "metadata": {},
   "outputs": [
    {
     "name": "stderr",
     "output_type": "stream",
     "text": [
      "DEBUG    Event triggered: killed\n",
      "INFO     connection_lost: (None,)\n",
      "DEBUG    Cancelling 0 slow send tasks\n",
      "DEBUG    Event triggered: session_end\n",
      "DEBUG    Event triggered: disconnected\n"
     ]
    }
   ],
   "source": [
    "xmpp.abort()"
   ]
  },
  {
   "cell_type": "code",
   "execution_count": null,
   "metadata": {},
   "outputs": [],
   "source": []
  }
 ],
 "metadata": {
  "kernelspec": {
   "display_name": "Python 3",
   "language": "python",
   "name": "python3"
  },
  "language_info": {
   "codemirror_mode": {
    "name": "ipython",
    "version": 3
   },
   "file_extension": ".py",
   "mimetype": "text/x-python",
   "name": "python",
   "nbconvert_exporter": "python",
   "pygments_lexer": "ipython3",
   "version": "3.8.5"
  }
 },
 "nbformat": 4,
 "nbformat_minor": 4
}
